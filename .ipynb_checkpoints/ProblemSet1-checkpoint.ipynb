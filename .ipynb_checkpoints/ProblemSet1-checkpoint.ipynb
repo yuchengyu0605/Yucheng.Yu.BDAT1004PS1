{
 "cells": [
  {
   "cell_type": "markdown",
   "id": "b4f81404",
   "metadata": {},
   "source": [
    "Question 1 C#: What data type is each of the following?"
   ]
  },
  {
   "cell_type": "code",
   "execution_count": null,
   "id": "69bf33c5",
   "metadata": {},
   "outputs": [],
   "source": [
    "class Program\n",
    "{\n",
    "    static void Main()\n",
    "    {\n",
    "        Console.WriteLine(\"Data types:\");\n",
    "        Console.WriteLine(\"5: \" + GetTypeString(5));\n",
    "        Console.WriteLine(\"5.0: \" + GetTypeString(5.0));\n",
    "        Console.WriteLine(\"5 > 1: \" + GetTypeString(5 > 1));\n",
    "        Console.WriteLine(\"'5': \" + GetTypeString('5'));\n",
    "        Console.WriteLine(\"5 * 2: \" + GetTypeString(5 * 2));\n",
    "        Console.WriteLine(\"'5' * 2: \" + GetTypeString('5' * 2));\n",
    "        Console.WriteLine(\"'5' + '2': \" + GetTypeString('5' + '2'));\n",
    "        Console.WriteLine(\"5 / 2: \" + GetTypeString(5 / 2));\n",
    "        Console.WriteLine(\"5 % 2: \" + GetTypeString(5 % 2));\n",
    "        Console.WriteLine(\"{5, 2, 1}: \" + GetTypeString(new[] { 5, 2, 1 }));\n",
    "        Console.WriteLine(\"5 == 3: \" + GetTypeString(5 == 3));\n",
    "        Console.WriteLine(\"Pi: \" + GetTypeString(Math.PI));\n",
    "    }\n",
    "\n",
    "    static string GetTypeString<T>(T value)\n",
    "    {\n",
    "        return value.GetType().ToString();\n",
    "    }\n",
    "}\n"
   ]
  },
  {
   "cell_type": "code",
   "execution_count": null,
   "id": "781460d4",
   "metadata": {},
   "outputs": [],
   "source": [
    "Data types:\n",
    "5: System.Int32\n",
    "5.0: System.Double\n",
    "5 > 1: System.Boolean\n",
    "'5': System.Char\n",
    "5 * 2: System.Int32\n",
    "'5' * 2: System.Int32\n",
    "'5' + '2': System.Int32\n",
    "5 / 2: System.Int32\n",
    "5 % 2: System.Int32\n",
    "{5, 2, 1}: System.Int32[]\n",
    "5 == 3: System.Boolean\n",
    "Pi: System.Double"
   ]
  },
  {
   "cell_type": "markdown",
   "id": "f2f5d334",
   "metadata": {},
   "source": [
    "Question 2 C#: Write (and evaluate) C# expressions that answer these questions:"
   ]
  },
  {
   "cell_type": "markdown",
   "id": "d490b12a",
   "metadata": {},
   "source": [
    "a. How many letters are there in 'Supercalifragilisticexpialidocious'?"
   ]
  },
  {
   "cell_type": "code",
   "execution_count": null,
   "id": "7b8a31b1",
   "metadata": {},
   "outputs": [],
   "source": [
    "string word = \"Supercalifragilisticexpialidocious\";\n",
    "int wordCount = word.Length;\n",
    "Console.WriteLine($\"The number of letters in the word is: {wordCount}\");"
   ]
  },
  {
   "cell_type": "code",
   "execution_count": null,
   "id": "f4ac0ccc",
   "metadata": {},
   "outputs": [],
   "source": [
    "The number of letters in the word is: 34"
   ]
  },
  {
   "cell_type": "markdown",
   "id": "ccbe0e53",
   "metadata": {},
   "source": [
    "b. Does 'Supercalifragilisticexpialidocious' contain 'ice' as a substring?"
   ]
  },
  {
   "cell_type": "code",
   "execution_count": null,
   "id": "06508c98",
   "metadata": {},
   "outputs": [],
   "source": [
    "string substring = \"ice\";\n",
    "if (word.Contains(substring))\n",
    "{\n",
    "    Console.WriteLine(\"True\");\n",
    "}\n",
    "else\n",
    "{\n",
    "    Console.WriteLine(\"False\");\n",
    "}"
   ]
  },
  {
   "cell_type": "code",
   "execution_count": null,
   "id": "805430d4",
   "metadata": {},
   "outputs": [],
   "source": [
    "The number of letters in the word is: 34\n",
    "True"
   ]
  },
  {
   "cell_type": "markdown",
   "id": "6ab9bd5f",
   "metadata": {},
   "source": [
    "c. Which of the following words is the longest: \n",
    "\n",
    "Supercalifragilisticexpialidocious, Honorificabilitudinitatibus, or Bababadalgharaghtakamminarronnkonn?"
   ]
  },
  {
   "cell_type": "code",
   "execution_count": null,
   "id": "d19c441d",
   "metadata": {},
   "outputs": [],
   "source": [
    "string word1 = \"Supercalifragilisticexpialidocious\";\n",
    "string word2 = \"Honorificabilitudinitatibus\";\n",
    "string word3 = \"Bababadalgharaghtakamminarronnkonn\";\n",
    "\n",
    "string longestWord = \"\";\n",
    "\n",
    "if (word1.Length >= word2.Length && word1.Length >= word3.Length)  #Check if the length of word1 is greater than or equal to word2 and word3 \n",
    "{\n",
    "    longestWord = word1;\n",
    "}\n",
    "else if (word2.Length >= word1.Length && word2.Length >= word3.Length)\n",
    "{\n",
    "    longestWord = word2;\n",
    "}\n",
    "else\n",
    "{\n",
    "    longestWord = word3;\n",
    "}\n",
    "\n",
    "Console.WriteLine($\"The longest word is: {longestWord}\");"
   ]
  },
  {
   "cell_type": "code",
   "execution_count": null,
   "id": "ba20ed2a",
   "metadata": {},
   "outputs": [],
   "source": [
    "The longest word is: Supercalifragilisticexpialidocious"
   ]
  },
  {
   "cell_type": "markdown",
   "id": "6c4d51a3",
   "metadata": {},
   "source": [
    "d. Which composer comes first in the dictionary: 'Berlioz', 'Borodin', 'Brian', 'Bartok', 'Bellini', 'Buxtehude', 'Bernstein'. Which one comes last?"
   ]
  },
  {
   "cell_type": "code",
   "execution_count": null,
   "id": "6fc0458e",
   "metadata": {},
   "outputs": [],
   "source": [
    "using System.Linq;\n",
    "\n",
    "string[] composers = { \"Berlioz\", \"Borodin\", \"Brian\", \"Bartok\", \"Bellini\", \"Buxtehude\", \"Bernstein\" }; #Create an array of strings with the given composers\n",
    "\n",
    "string firstComposer = composers.Min();   #Return the minimum value from the array by using Min() method\n",
    "string lastComposer = composers.Max();\n",
    "\n",
    "Console.WriteLine($\"The composer that comes first in the dictionary is: {firstComposer}\");\n",
    "Console.WriteLine($\"The composer that comes last in the dictionary is: {lastComposer}\");"
   ]
  },
  {
   "cell_type": "code",
   "execution_count": null,
   "id": "9b881f17",
   "metadata": {},
   "outputs": [],
   "source": [
    "The composer that comes first in the dictionary is: Bartok\n",
    "The composer that comes last in the dictionary is: Buxtehude"
   ]
  },
  {
   "cell_type": "markdown",
   "id": "422d34e6",
   "metadata": {},
   "source": [
    "Question 3 C#:\n",
    "Implement function triangleArea(a,b,c) that takes as input the lengths of the 3 sides of a triangle and returns the area of the triangle. By Heron's formula, the area of a triangle with side lengths a, b, and c is s(s-a)(s-b)(s-c), where\n",
    "s=(a+b+c)/2."
   ]
  },
  {
   "cell_type": "code",
   "execution_count": null,
   "id": "9e70053c",
   "metadata": {},
   "outputs": [],
   "source": [
    "class Program\n",
    "{\n",
    "    static void Main()\n",
    "    {\n",
    "        Console.WriteLine(\"Enter the lengths of the sides of the triangle:\");\n",
    "\n",
    "        double sideA = ReadSideLength(\"Side A: \");   #Using the ReadSideLength method to store the value\n",
    "        double sideB = ReadSideLength(\"Side B: \");\n",
    "        double sideC = ReadSideLength(\"Side C: \");\n",
    "\n",
    "        double area = TriangleArea(sideA, sideB, sideC);  \n",
    "        Console.Write($\"triangleArea({sideA}, {sideB}, {sideC}): {area}\");   \n",
    "    }\n",
    "\n",
    "    static double ReadSideLength(string sideName)\n",
    "    {\n",
    "        double sideLength;\n",
    "\n",
    "        while (true)\n",
    "        {\n",
    "            Console.Write(sideName);\n",
    "            if (double.TryParse(Console.ReadLine(), out sideLength) && sideLength > 0)  #Convert the input of sideName to a double value, return the side length if the convertion is successful it is greater than 0\n",
    "            {\n",
    "                return sideLength;\n",
    "            }\n",
    "            \n",
    "        }\n",
    "    }\n",
    "\n",
    "    static double TriangleArea(double a, double b, double c)  #Calculate the area of Triangle based on Heron's formula\n",
    "    {\n",
    "        double s = (a + b + c) / 2;\n",
    "        double area = Math.Sqrt(s * (s - a) * (s - b) * (s - c));\n",
    "        return area;\n",
    "    }"
   ]
  },
  {
   "cell_type": "code",
   "execution_count": null,
   "id": "f1af380b",
   "metadata": {},
   "outputs": [],
   "source": [
    "Enter the lengths of the sides of the triangle:\n",
    "Side A: 2\n",
    "Side B: 2\n",
    "Side C: 2\n",
    "triangleArea(2, 2, 2): 1.732050807568877"
   ]
  },
  {
   "cell_type": "markdown",
   "id": "2e60d2f5",
   "metadata": {},
   "source": [
    "Question 4 C#: Write a program in C# Sharp to separate odd and even integers in separate arrays."
   ]
  },
  {
   "cell_type": "code",
   "execution_count": 14,
   "id": "b19bbfab",
   "metadata": {},
   "outputs": [
    {
     "ename": "SyntaxError",
     "evalue": "expected ':' (409538864.py, line 1)",
     "output_type": "error",
     "traceback": [
      "\u001b[0;36m  Cell \u001b[0;32mIn[14], line 1\u001b[0;36m\u001b[0m\n\u001b[0;31m    class Program\u001b[0m\n\u001b[0m                 ^\u001b[0m\n\u001b[0;31mSyntaxError\u001b[0m\u001b[0;31m:\u001b[0m expected ':'\n"
     ]
    }
   ],
   "source": [
    "class Program\n",
    "{\n",
    "    static void Main()\n",
    "    {\n",
    "        int[] numbers = new int[5];   #Create an array of size 5 called numbers by users' input\n",
    "        int[] evenNumbers;   #Create another array to store only even numbers\n",
    "        int[] oddNumbers;    #Create another array to store only odd numbers\n",
    "        int evenElements = 0;   #Assign initial value as 0 to evenElements\n",
    "        int oddElements = 0;\n",
    "\n",
    "        Console.WriteLine(\"Enter 5 numbers:\");\n",
    "\n",
    "        for (int i = 0; i < 5; i++)\n",
    "        {\n",
    "            Console.Write($\"Elements - {i}: \");\n",
    "            if (int.TryParse(Console.ReadLine(), out int number))   #Convert the number entered by user to interger\n",
    "            {\n",
    "                numbers[i] = number;  #Store the number at index i\n",
    "                if (number % 2 == 0)  #if the number can be devided by 2, increment the even elements \n",
    "                    evenElements++;\n",
    "                else\n",
    "                    oddElements++;\n",
    "            }\n",
    "          \n",
    "        }\n",
    "\n",
    "        evenNumbers = new int[evenElements];\n",
    "        oddNumbers = new int[oddElements];\n",
    "        evenElements = 0;\n",
    "        oddElements = 0;\n",
    "\n",
    "        for (int i = 0; i < 5; i++)\n",
    "        {\n",
    "            if (numbers[i] % 2 == 0)\n",
    "                evenNumbers[evenElements++] = numbers[i];\n",
    "            else\n",
    "                oddNumbers[oddElements++] = numbers[i];\n",
    "        }\n",
    "\n",
    "        Console.WriteLine(\"The even elements are:\");\n",
    "        PrintArray(evenNumbers);\n",
    "        Console.WriteLine(\"The odd elements are:\");\n",
    "        PrintArray(oddNumbers);\n",
    "    }\n",
    "\n",
    "    static void PrintArray(int[] array)\n",
    "    {\n",
    "        foreach (int number in array)\n",
    "        {\n",
    "            Console.Write(number + \" \");\n",
    "        }\n",
    "        Console.WriteLine();\n",
    "    }\n",
    "}\n"
   ]
  },
  {
   "cell_type": "code",
   "execution_count": null,
   "id": "fcacc55e",
   "metadata": {},
   "outputs": [],
   "source": [
    "Elements - 0: 25\n",
    "Elements - 1: 47\n",
    "Elements - 2: 42\n",
    "Elements - 3: 56\n",
    "Elements - 4: 32\n",
    "The even elements are:\n",
    "42 56 32\n",
    "The odd elements are:\n",
    "25 47"
   ]
  },
  {
   "cell_type": "markdown",
   "id": "81bf4fc2",
   "metadata": {},
   "source": [
    "Question 5 C#:\n",
    "a. Write a function inside(x,y,x1,y1,x2,y2) that returns True or False depending on whether the point (x,y) lies in the rectangle with lower left corner (x1,y1) and upper right corner (x2,y2)."
   ]
  },
  {
   "cell_type": "markdown",
   "id": "21c4270f",
   "metadata": {},
   "source": [
    "b. Use function inside() from part a. to write an expression that tests whether the point (1,1) lies in both of the following rectangles: one with lower left corner (0.3, 0.5) and upper right corner (1.1, 0.7) and the other with lower left corner (0.5, 0.2) and upper right corner (1.1, 2)."
   ]
  },
  {
   "cell_type": "code",
   "execution_count": 13,
   "id": "47880139",
   "metadata": {},
   "outputs": [
    {
     "ename": "SyntaxError",
     "evalue": "invalid syntax. Perhaps you forgot a comma? (262047148.py, line 3)",
     "output_type": "error",
     "traceback": [
      "\u001b[0;36m  Cell \u001b[0;32mIn[13], line 3\u001b[0;36m\u001b[0m\n\u001b[0;31m    static void Main()\u001b[0m\n\u001b[0m    ^\u001b[0m\n\u001b[0;31mSyntaxError\u001b[0m\u001b[0;31m:\u001b[0m invalid syntax. Perhaps you forgot a comma?\n"
     ]
    }
   ],
   "source": [
    "class Program\n",
    "{\n",
    "    static void Main()\n",
    "    {\n",
    "        Console.WriteLine(\"Enter the lower left conrner the rectangle:\");\n",
    "        double x1 = ReadCoordinate(\"x1: \");   \n",
    "        double y1 = ReadCoordinate(\"y1: \");\n",
    "\n",
    "        Console.WriteLine(\"Enter the upper right conrner the rectangle:\");\n",
    "        double x2 = ReadCoordinate(\"x2: \");\n",
    "        double y2 = ReadCoordinate(\"y2: \");\n",
    "\n",
    "        Console.WriteLine(\"Enter the point:\");\n",
    "        double x = ReadCoordinate(\"x: \");\n",
    "        double y = ReadCoordinate(\"y: \");\n",
    "\n",
    "        bool Inside = inside(x, y, x1, y1, x2, y2);  #Create a boolean variable Inside to store the result of inside function\n",
    "\n",
    "        Console.WriteLine($\"The point ({x}, {y}) is inside the rectangle: {Inside}\");\n",
    "\n",
    "        bool isPointInRectangle1 = inside(1, 1, 0.3, 0.5, 1.1, 0.7);  \n",
    "        bool isPointInRectangle2 = inside(1, 1, 0.5, 0.2, 1.1, 2);\n",
    "        bool isPointInBothRectangles = false;    #Initialize the isPointInBothRectangles as false \n",
    "\n",
    "        if (isPointInRectangle1 && isPointInRectangle2)  #Check if the point(1,1) is in both rectangles\n",
    "        {\n",
    "            isPointInBothRectangles = true;   \n",
    "        }\n",
    "\n",
    "        if (isPointInBothRectangles)\n",
    "        {\n",
    "            Console.WriteLine(\"The point (1, 1) lies in both rectangles.\");\n",
    "        }\n",
    "        else\n",
    "        {\n",
    "            Console.WriteLine(\"The point (1, 1) does not lie in both rectangles.\");\n",
    "        }\n",
    "\n",
    "\n",
    "\n",
    "    }\n",
    "\n",
    "    static double ReadCoordinate(string coordinateName)   #Use ReadCoorfinate() function to ensure a valid coordinate input\n",
    "    {\n",
    "        double coordinate;\n",
    "\n",
    "        while (true)\n",
    "        {\n",
    "            Console.Write(coordinateName);\n",
    "            if (double.TryParse(Console.ReadLine(), out coordinate)) \n",
    "            {\n",
    "                return coordinate;\n",
    "            }\n",
    "\n",
    "        }\n",
    "    }\n",
    "\n",
    "    static bool inside(double x, double y, double x1, double y1, double x2, double y2)  #Determine the given point is inside the rectangle or not ddefined by (x1,y1) and (x2,y2)\n",
    "    {\n",
    "        return x >= x1 && x <= x2 && y >= y1 && y <= y2;  #Check if x is greater than or equal to x1 and if x is less than and equal to x2, if y is greater than or equal to y1 and if y is less than and equal to y2, if all these conditions are true, the point is inside the rectangle and return 'True'\n",
    "    }\n",
    "\n",
    "}"
   ]
  },
  {
   "cell_type": "code",
   "execution_count": null,
   "id": "1e059bc4",
   "metadata": {},
   "outputs": [],
   "source": [
    "Enter the lower left conrner the rectangle:\n",
    "x1: 0\n",
    "y1: 0\n",
    "Enter the upper right conrner the rectangle:\n",
    "x2: 2\n",
    "y2: 3\n",
    "Enter the point:\n",
    "x: 1\n",
    "y: 1\n",
    "The point (1, 1) is inside the rectangle: True"
   ]
  },
  {
   "cell_type": "code",
   "execution_count": null,
   "id": "c9ea456e",
   "metadata": {},
   "outputs": [],
   "source": [
    "Enter the lower left conrner the rectangle:\n",
    "x1: 0\n",
    "y1: 0\n",
    "Enter the upper right conrner the rectangle:\n",
    "x2: 2\n",
    "y2: 3\n",
    "Enter the point:\n",
    "x: -1\n",
    "y: -1\n",
    "The point (-1, -1) is inside the rectangle: False"
   ]
  },
  {
   "cell_type": "code",
   "execution_count": null,
   "id": "e20b2b6c",
   "metadata": {},
   "outputs": [],
   "source": [
    "The point (1, 1) does not lie in both rectangles."
   ]
  },
  {
   "cell_type": "markdown",
   "id": "8b40914f",
   "metadata": {},
   "source": [
    "Question 6 Python:\n",
    "16. You can turn a word into pig-Latin using the following two rules (simplified):\n",
    "• If the word starts with a consonant, move that letter to the end and append\n",
    "'ay'. For example, 'happy' becomes 'appyhay' and 'pencil' becomes 'encilpay'.\n",
    "• If the word starts with a vowel, simply append 'way' to the end of the word.\n",
    "For example, 'enter' becomes 'enterway' and 'other' becomes 'otherway' . For\n",
    "our purposes, there are 5 vowels: a, e, i, o, u (so we count y as a consonant). Write a function pig() that takes a word (i.e., a string) as input and returns its pig- Latin form. Your function should still work if the input word contains upper case characters. Your output should always be lower case however."
   ]
  },
  {
   "cell_type": "code",
   "execution_count": 6,
   "id": "67704f3d",
   "metadata": {
    "scrolled": true
   },
   "outputs": [
    {
     "name": "stdout",
     "output_type": "stream",
     "text": [
      "Enter a word: celia\n",
      "Pig-Latin form: eliacay\n"
     ]
    }
   ],
   "source": [
    "def pig(word):\n",
    "    vowels = ['a', 'e', 'i', 'o', 'u']  #Create a list with the vowels\n",
    "    word = word.lower()   #Covert the input word to lower case\n",
    "    \n",
    "    if word[0] in vowels:   #Check if the first word is a vowel or not\n",
    "        pig_word = word + 'way'\n",
    "    else:\n",
    "        pig_word = word[1:] + word[0] + 'ay'  #Concatenate index 1 of the original word with the first character and 'ay'\n",
    "    \n",
    "    return pig_word\n",
    "\n",
    "word = input(\"Enter a word: \")\n",
    "pig_word = pig(word)\n",
    "print(\"Pig-Latin form:\", pig_word)\n"
   ]
  },
  {
   "cell_type": "markdown",
   "id": "b5462523",
   "metadata": {},
   "source": [
    "Question 7 Python: \n",
    "File bloodtype1.txt records blood-types of patients (A, B, AB, O or OO) at a clinic. Write a function bldcount() that reads the file with name name and reports (i.e., prints) how many patients there are in each bloodtype."
   ]
  },
  {
   "cell_type": "code",
   "execution_count": 7,
   "id": "6c773748",
   "metadata": {
    "scrolled": true
   },
   "outputs": [
    {
     "name": "stdout",
     "output_type": "stream",
     "text": [
      "There are 15 patients of blood type A.\n",
      "There is one patient of blood type B.\n",
      "There are 13 patients of blood type AB.\n",
      "There are 15 patients of blood type O.\n",
      "There are no patients of blood type OO.\n"
     ]
    }
   ],
   "source": [
    "def bldcount(file):\n",
    "    blood_counts = {'A': 0, 'B': 0, 'AB': 0, 'O': 0, 'OO': 0}  #Create a dictionary blood_counts with the blood types as keys, initialize the value to 0\n",
    "\n",
    "    f = open(file,\"r\")  #Open the file in read mode\n",
    "   \n",
    "    for blood_type in f.read().split():  #Split the file into blood types, using whitespace as the delimiter\n",
    "        \n",
    "        if blood_type in blood_counts:\n",
    "                    blood_counts[blood_type] += 1   #Increment the specific blood types in the dictionary\n",
    "\n",
    "    for blood_type, count in blood_counts.items():  #Iterate the key value pair in the dictionary\n",
    "        if count == 1:\n",
    "                print(f\"There is one patient of blood type {blood_type}.\")  #Insert the blood_type value into the string\n",
    "        elif count > 1:\n",
    "                print(f\"There are {count} patients of blood type {blood_type}.\")\n",
    "        else:\n",
    "                print(f\"There are no patients of blood type {blood_type}.\")\n",
    "\n",
    "bldcount('bloodtype.txt')"
   ]
  },
  {
   "cell_type": "markdown",
   "id": "8b7813bb",
   "metadata": {},
   "source": [
    "Question 8 Python:\n",
    "Write a function curconv() that takes as input:\n",
    "1. a currency represented using a string (e.g., 'JPY' for the Japanese Yen or 'EUR' for the Euro)\n",
    "2. an amount\n",
    "and then converts and returns the amount in US dollars."
   ]
  },
  {
   "cell_type": "code",
   "execution_count": 8,
   "id": "916b5a18",
   "metadata": {},
   "outputs": [
    {
     "name": "stdout",
     "output_type": "stream",
     "text": [
      "122.96544\n",
      "1.241401\n",
      "3.1035025\n"
     ]
    }
   ],
   "source": [
    "def curconv(currency, amount):\n",
    "    f = open('currencies.txt', 'r')\n",
    "    for line in f.readlines():\n",
    "        parts = line.split()  #Split the line into a list of substrings, using whitespace as the delimiter\n",
    "        if parts[0] == currency: #Check if currency code matches\n",
    "            exchange_rate = float(parts[1])  #Convert the value of exchange rate to floating point number and assign it to exchange_rate \n",
    "            usd = exchange_rate * amount\n",
    "    return usd\n",
    "\n",
    "print(curconv('EUR', 100))\n",
    "print(curconv('JPY', 100))\n",
    "print(curconv('JPY', 250))"
   ]
  },
  {
   "cell_type": "markdown",
   "id": "19d5698c",
   "metadata": {},
   "source": [
    "Question 9 Python:\n",
    "Each of the following will cause an exception (an error). Identify what type of exception each will cause."
   ]
  },
  {
   "cell_type": "code",
   "execution_count": 59,
   "id": "df3e1bac",
   "metadata": {},
   "outputs": [
    {
     "ename": "TypeError",
     "evalue": "unsupported operand type(s) for +: 'int' and 'str'",
     "output_type": "error",
     "traceback": [
      "\u001b[0;31m---------------------------------------------------------------------------\u001b[0m",
      "\u001b[0;31mTypeError\u001b[0m                                 Traceback (most recent call last)",
      "Cell \u001b[0;32mIn[59], line 3\u001b[0m\n\u001b[1;32m      1\u001b[0m \u001b[38;5;66;03m#Trying to add incompatible variables, as in adding 6 + ‘a’\u001b[39;00m\n\u001b[0;32m----> 3\u001b[0m \u001b[38;5;28mprint\u001b[39m(\u001b[38;5;241;43m6\u001b[39;49m\u001b[38;5;241;43m+\u001b[39;49m\u001b[38;5;124;43m'\u001b[39;49m\u001b[38;5;124;43ma\u001b[39;49m\u001b[38;5;124;43m'\u001b[39;49m)\n",
      "\u001b[0;31mTypeError\u001b[0m: unsupported operand type(s) for +: 'int' and 'str'"
     ]
    }
   ],
   "source": [
    "#Trying to add incompatible variables, as in adding 6 + ‘a’\n",
    "\n",
    "print(6+'a')\n",
    "\n",
    "#TypeError: unsupported operand type(s) for +: 'int' and 'str'\n"
   ]
  },
  {
   "cell_type": "code",
   "execution_count": 60,
   "id": "af944f5a",
   "metadata": {},
   "outputs": [
    {
     "ename": "IndexError",
     "evalue": "list index out of range",
     "output_type": "error",
     "traceback": [
      "\u001b[0;31m---------------------------------------------------------------------------\u001b[0m",
      "\u001b[0;31mIndexError\u001b[0m                                Traceback (most recent call last)",
      "Cell \u001b[0;32mIn[60], line 4\u001b[0m\n\u001b[1;32m      1\u001b[0m \u001b[38;5;66;03m#Referring to the 12th item of a list that has only 10 items\u001b[39;00m\n\u001b[1;32m      3\u001b[0m my_list \u001b[38;5;241m=\u001b[39m [\u001b[38;5;241m1\u001b[39m, \u001b[38;5;241m2\u001b[39m, \u001b[38;5;241m3\u001b[39m, \u001b[38;5;241m4\u001b[39m, \u001b[38;5;241m5\u001b[39m, \u001b[38;5;241m6\u001b[39m, \u001b[38;5;241m7\u001b[39m, \u001b[38;5;241m8\u001b[39m, \u001b[38;5;241m9\u001b[39m, \u001b[38;5;241m10\u001b[39m]\n\u001b[0;32m----> 4\u001b[0m item \u001b[38;5;241m=\u001b[39m \u001b[43mmy_list\u001b[49m\u001b[43m[\u001b[49m\u001b[38;5;241;43m12\u001b[39;49m\u001b[43m]\u001b[49m\n",
      "\u001b[0;31mIndexError\u001b[0m: list index out of range"
     ]
    }
   ],
   "source": [
    "#Referring to the 12th item of a list that has only 10 items\n",
    "\n",
    "my_list = [1, 2, 3, 4, 5, 6, 7, 8, 9, 10]\n",
    "item = my_list[12]\n",
    "\n",
    "#IndexError: list index out of range"
   ]
  },
  {
   "cell_type": "code",
   "execution_count": 61,
   "id": "ffe42f66",
   "metadata": {},
   "outputs": [
    {
     "ename": "ValueError",
     "evalue": "math domain error",
     "output_type": "error",
     "traceback": [
      "\u001b[0;31m---------------------------------------------------------------------------\u001b[0m",
      "\u001b[0;31mValueError\u001b[0m                                Traceback (most recent call last)",
      "Cell \u001b[0;32mIn[61], line 5\u001b[0m\n\u001b[1;32m      1\u001b[0m \u001b[38;5;66;03m#Using a value that is out of range for a function’s input, such as calling math.sqrt(-1.0)\u001b[39;00m\n\u001b[1;32m      3\u001b[0m \u001b[38;5;28;01mimport\u001b[39;00m \u001b[38;5;21;01mmath\u001b[39;00m\n\u001b[0;32m----> 5\u001b[0m result \u001b[38;5;241m=\u001b[39m \u001b[43mmath\u001b[49m\u001b[38;5;241;43m.\u001b[39;49m\u001b[43msqrt\u001b[49m\u001b[43m(\u001b[49m\u001b[38;5;241;43m-\u001b[39;49m\u001b[38;5;241;43m1.0\u001b[39;49m\u001b[43m)\u001b[49m\n",
      "\u001b[0;31mValueError\u001b[0m: math domain error"
     ]
    }
   ],
   "source": [
    "#Using a value that is out of range for a function’s input, such as calling math.sqrt(-1.0)\n",
    "\n",
    "import math\n",
    "\n",
    "result = math.sqrt(-1.0)\n",
    "\n",
    "#ValueError: math domain error"
   ]
  },
  {
   "cell_type": "code",
   "execution_count": 62,
   "id": "65420128",
   "metadata": {},
   "outputs": [
    {
     "ename": "NameError",
     "evalue": "name 'x' is not defined",
     "output_type": "error",
     "traceback": [
      "\u001b[0;31m---------------------------------------------------------------------------\u001b[0m",
      "\u001b[0;31mNameError\u001b[0m                                 Traceback (most recent call last)",
      "Cell \u001b[0;32mIn[62], line 3\u001b[0m\n\u001b[1;32m      1\u001b[0m \u001b[38;5;66;03m#Using an undeclared variable, such as print(x) when x has not been defined\u001b[39;00m\n\u001b[0;32m----> 3\u001b[0m \u001b[38;5;28mprint\u001b[39m(\u001b[43mx\u001b[49m)\n",
      "\u001b[0;31mNameError\u001b[0m: name 'x' is not defined"
     ]
    }
   ],
   "source": [
    "#Using an undeclared variable, such as print(x) when x has not been defined\n",
    "\n",
    "print(x)\n",
    "\n",
    "#NameError: name 'x' is not defined"
   ]
  },
  {
   "cell_type": "code",
   "execution_count": 63,
   "id": "055d4b67",
   "metadata": {},
   "outputs": [
    {
     "ename": "FileNotFoundError",
     "evalue": "[Errno 2] No such file or directory: 'nonexistent_file.txt'",
     "output_type": "error",
     "traceback": [
      "\u001b[0;31m---------------------------------------------------------------------------\u001b[0m",
      "\u001b[0;31mFileNotFoundError\u001b[0m                         Traceback (most recent call last)",
      "Cell \u001b[0;32mIn[63], line 3\u001b[0m\n\u001b[1;32m      1\u001b[0m \u001b[38;5;66;03m#Trying to open a file that does not exist, such as mistyping the file name or looking in the wrong directory.\u001b[39;00m\n\u001b[0;32m----> 3\u001b[0m f \u001b[38;5;241m=\u001b[39m \u001b[38;5;28;43mopen\u001b[39;49m\u001b[43m(\u001b[49m\u001b[38;5;124;43m\"\u001b[39;49m\u001b[38;5;124;43mnonexistent_file.txt\u001b[39;49m\u001b[38;5;124;43m\"\u001b[39;49m\u001b[43m,\u001b[49m\u001b[43m \u001b[49m\u001b[38;5;124;43m\"\u001b[39;49m\u001b[38;5;124;43mr\u001b[39;49m\u001b[38;5;124;43m\"\u001b[39;49m\u001b[43m)\u001b[49m\n",
      "File \u001b[0;32m~/anaconda3/lib/python3.10/site-packages/IPython/core/interactiveshell.py:282\u001b[0m, in \u001b[0;36m_modified_open\u001b[0;34m(file, *args, **kwargs)\u001b[0m\n\u001b[1;32m    275\u001b[0m \u001b[38;5;28;01mif\u001b[39;00m file \u001b[38;5;129;01min\u001b[39;00m {\u001b[38;5;241m0\u001b[39m, \u001b[38;5;241m1\u001b[39m, \u001b[38;5;241m2\u001b[39m}:\n\u001b[1;32m    276\u001b[0m     \u001b[38;5;28;01mraise\u001b[39;00m \u001b[38;5;167;01mValueError\u001b[39;00m(\n\u001b[1;32m    277\u001b[0m         \u001b[38;5;124mf\u001b[39m\u001b[38;5;124m\"\u001b[39m\u001b[38;5;124mIPython won\u001b[39m\u001b[38;5;124m'\u001b[39m\u001b[38;5;124mt let you open fd=\u001b[39m\u001b[38;5;132;01m{\u001b[39;00mfile\u001b[38;5;132;01m}\u001b[39;00m\u001b[38;5;124m by default \u001b[39m\u001b[38;5;124m\"\u001b[39m\n\u001b[1;32m    278\u001b[0m         \u001b[38;5;124m\"\u001b[39m\u001b[38;5;124mas it is likely to crash IPython. If you know what you are doing, \u001b[39m\u001b[38;5;124m\"\u001b[39m\n\u001b[1;32m    279\u001b[0m         \u001b[38;5;124m\"\u001b[39m\u001b[38;5;124myou can use builtins\u001b[39m\u001b[38;5;124m'\u001b[39m\u001b[38;5;124m open.\u001b[39m\u001b[38;5;124m\"\u001b[39m\n\u001b[1;32m    280\u001b[0m     )\n\u001b[0;32m--> 282\u001b[0m \u001b[38;5;28;01mreturn\u001b[39;00m \u001b[43mio_open\u001b[49m\u001b[43m(\u001b[49m\u001b[43mfile\u001b[49m\u001b[43m,\u001b[49m\u001b[43m \u001b[49m\u001b[38;5;241;43m*\u001b[39;49m\u001b[43margs\u001b[49m\u001b[43m,\u001b[49m\u001b[43m \u001b[49m\u001b[38;5;241;43m*\u001b[39;49m\u001b[38;5;241;43m*\u001b[39;49m\u001b[43mkwargs\u001b[49m\u001b[43m)\u001b[49m\n",
      "\u001b[0;31mFileNotFoundError\u001b[0m: [Errno 2] No such file or directory: 'nonexistent_file.txt'"
     ]
    }
   ],
   "source": [
    "#Trying to open a file that does not exist, such as mistyping the file name or looking in the wrong directory.\n",
    "\n",
    "f = open(\"nonexistent_file.txt\", \"r\")\n",
    "\n",
    "#FileNotFoundError: [Errno 2] No such file or directory: 'nonexistent_file.txt'"
   ]
  },
  {
   "cell_type": "markdown",
   "id": "c3245b71",
   "metadata": {},
   "source": [
    "Question 10 Python\n",
    "Encryption is the process of hiding the meaning of a text by substituting letters in the message with other letters, according to some system. If the process is successful, no one but the intended recipient can understand the encrypted message. Cryptanalysis refers to attempts to undo the encryption, even if some details of the encryption are unknown (for example, if an encrypted message has been intercepted). The first step of cryptanalysis is often to build up a table of letter frequencies in the encrypted text. Assume that the string letters is already defined as 'abcdefghijklmnopqrstuvwxyz'. Write a function called frequencies() that takes a string as its only parameter, and returns a list of integers, showing the number of times each character appears in the text. Your function may ignore any characters that are not in letters."
   ]
  },
  {
   "cell_type": "code",
   "execution_count": 9,
   "id": "a9bdb3fe",
   "metadata": {},
   "outputs": [
    {
     "name": "stdout",
     "output_type": "stream",
     "text": [
      "[1, 1, 1, 3, 5, 1, 1, 2, 1, 0, 1, 0, 1, 2, 4, 0, 1, 2, 0, 3, 1, 0, 1, 1, 0, 0]\n",
      "[1, 0, 0, 0, 1, 0, 0, 0, 0, 0, 0, 1, 0, 0, 0, 2, 0, 0, 0, 0, 0, 0, 0, 0, 0, 0]\n",
      "[0, 0, 1, 0, 1, 0, 1, 1, 0, 0, 0, 0, 0, 1, 0, 0, 0, 0, 0, 0, 2, 0, 0, 0, 2, 0]\n"
     ]
    }
   ],
   "source": [
    "def frequencies(text):\n",
    "    letters = 'abcdefghijklmnopqrstuvwxyz'\n",
    "    frequencies = [0] * len(letters) #Create a list of 0 by length of the letters \n",
    "\n",
    "    text = text.lower() #Convert input text to lowercase\n",
    "\n",
    "    for char in text:\n",
    "        if char in letters:\n",
    "            index = letters.index(char) #Retrieve the index of a character within the letters\n",
    "            frequencies[index] += 1 #Increment the frequency count for the character\n",
    "\n",
    "    return frequencies\n",
    "\n",
    "\n",
    "\n",
    "print(frequencies('The quick red fox got bored and went home.')) \n",
    "\n",
    "print(frequencies('apple')) \n",
    "\n",
    "print(frequencies('Yucheng Yu'))"
   ]
  }
 ],
 "metadata": {
  "kernelspec": {
   "display_name": "Python 3 (ipykernel)",
   "language": "python",
   "name": "python3"
  },
  "language_info": {
   "codemirror_mode": {
    "name": "ipython",
    "version": 3
   },
   "file_extension": ".py",
   "mimetype": "text/x-python",
   "name": "python",
   "nbconvert_exporter": "python",
   "pygments_lexer": "ipython3",
   "version": "3.10.9"
  }
 },
 "nbformat": 4,
 "nbformat_minor": 5
}
