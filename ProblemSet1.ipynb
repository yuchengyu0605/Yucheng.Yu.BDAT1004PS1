{
 "cells": [
  {
   "cell_type": "code",
   "execution_count": 3,
   "id": "3eeb719a",
   "metadata": {},
   "outputs": [
    {
     "name": "stdout",
     "output_type": "stream",
     "text": [
      "Hello Celiaaaaa\n"
     ]
    }
   ],
   "source": [
    "print (\"Hello Celiaaaaa\")"
   ]
  },
  {
   "cell_type": "code",
   "execution_count": 1,
   "id": "91279136",
   "metadata": {},
   "outputs": [
    {
     "name": "stdout",
     "output_type": "stream",
     "text": [
      "111222333444555666777\n"
     ]
    }
   ],
   "source": [
    "print (\"111222333444555666777\")"
   ]
  },
  {
   "cell_type": "code",
   "execution_count": null,
   "id": "aeaf10a9",
   "metadata": {},
   "outputs": [],
   "source": []
  }
 ],
 "metadata": {
  "kernelspec": {
   "display_name": "Python 3 (ipykernel)",
   "language": "python",
   "name": "python3"
  },
  "language_info": {
   "codemirror_mode": {
    "name": "ipython",
    "version": 3
   },
   "file_extension": ".py",
   "mimetype": "text/x-python",
   "name": "python",
   "nbconvert_exporter": "python",
   "pygments_lexer": "ipython3",
   "version": "3.10.9"
  }
 },
 "nbformat": 4,
 "nbformat_minor": 5
}
