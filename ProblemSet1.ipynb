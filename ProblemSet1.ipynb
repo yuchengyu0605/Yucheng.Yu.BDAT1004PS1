{
 "cells": [
  {
   "cell_type": "markdown",
   "id": "4eacacfc",
   "metadata": {},
   "source": [
    "Question 1 C#: What data type is each of the following?"
   ]
  },
  {
   "cell_type": "code",
   "execution_count": null,
   "id": "b8912206",
   "metadata": {},
   "outputs": [],
   "source": [
    "class Program\n",
    "{\n",
    "    static void Main()\n",
    "    {\n",
    "        Console.WriteLine(\"Data types:\");\n",
    "        Console.WriteLine(\"5: \" + GetTypeString(5));\n",
    "        Console.WriteLine(\"5.0: \" + GetTypeString(5.0));\n",
    "        Console.WriteLine(\"5 > 1: \" + GetTypeString(5 > 1));\n",
    "        Console.WriteLine(\"'5': \" + GetTypeString('5'));\n",
    "        Console.WriteLine(\"5 * 2: \" + GetTypeString(5 * 2));\n",
    "        Console.WriteLine(\"'5' * 2: \" + GetTypeString('5' * 2));\n",
    "        Console.WriteLine(\"'5' + '2': \" + GetTypeString('5' + '2'));\n",
    "        Console.WriteLine(\"5 / 2: \" + GetTypeString(5 / 2));\n",
    "        Console.WriteLine(\"5 % 2: \" + GetTypeString(5 % 2));\n",
    "        Console.WriteLine(\"{5, 2, 1}: \" + GetTypeString(new[] { 5, 2, 1 }));\n",
    "        Console.WriteLine(\"5 == 3: \" + GetTypeString(5 == 3));\n",
    "        Console.WriteLine(\"Pi: \" + GetTypeString(Math.PI));\n",
    "    }\n",
    "\n",
    "    static string GetTypeString<T>(T value)\n",
    "    {\n",
    "        return value.GetType().ToString();\n",
    "    }\n",
    "}\n"
   ]
  },
  {
   "cell_type": "markdown",
   "id": "a3839063",
   "metadata": {},
   "source": [
    "Data types:\n",
    "5: System.Int32\n",
    "5.0: System.Double\n",
    "5 > 1: System.Boolean\n",
    "'5': System.Char\n",
    "5 * 2: System.Int32\n",
    "'5' * 2: System.Int32\n",
    "'5' + '2': System.Int32\n",
    "5 / 2: System.Int32\n",
    "5 % 2: System.Int32\n",
    "{5, 2, 1}: System.Int32[]\n",
    "5 == 3: System.Boolean\n",
    "Pi: System.Double"
   ]
  },
  {
   "cell_type": "markdown",
   "id": "62303d82",
   "metadata": {},
   "source": [
    "Question 2 C#: Write (and evaluate) C# expressions that answer these questions:"
   ]
  },
  {
   "cell_type": "markdown",
   "id": "43121f1b",
   "metadata": {},
   "source": [
    "a. How many letters are there in 'Supercalifragilisticexpialidocious'?"
   ]
  },
  {
   "cell_type": "code",
   "execution_count": null,
   "id": "f55ee593",
   "metadata": {},
   "outputs": [],
   "source": [
    "string word = \"Supercalifragilisticexpialidocious\";\n",
    "int wordCount = word.Length;\n",
    "Console.WriteLine($\"The number of letters in the word is: {wordCount}\");"
   ]
  },
  {
   "cell_type": "markdown",
   "id": "5b13d1b5",
   "metadata": {},
   "source": [
    "The number of letters in the word is: 34"
   ]
  },
  {
   "cell_type": "markdown",
   "id": "818d4137",
   "metadata": {},
   "source": [
    "b. Does 'Supercalifragilisticexpialidocious' contain 'ice' as a substring?"
   ]
  },
  {
   "cell_type": "code",
   "execution_count": null,
   "id": "00c7c003",
   "metadata": {},
   "outputs": [],
   "source": [
    "string substring = \"ice\";\n",
    "if (word.Contains(substring))\n",
    "{\n",
    "    Console.WriteLine(\"True\");\n",
    "}\n",
    "else\n",
    "{\n",
    "    Console.WriteLine(\"False\");\n",
    "}"
   ]
  },
  {
   "cell_type": "markdown",
   "id": "90d0f651",
   "metadata": {},
   "source": [
    "The number of letters in the word is: 34\n",
    "True"
   ]
  },
  {
   "cell_type": "markdown",
   "id": "dc2b9bca",
   "metadata": {},
   "source": [
    "c. Which of the following words is the longest: \n",
    "\n",
    "Supercalifragilisticexpialidocious, Honorificabilitudinitatibus, or Bababadalgharaghtakamminarronnkonn?"
   ]
  },
  {
   "cell_type": "code",
   "execution_count": null,
   "id": "6ea60886",
   "metadata": {},
   "outputs": [],
   "source": [
    "string word1 = \"Supercalifragilisticexpialidocious\";\n",
    "string word2 = \"Honorificabilitudinitatibus\";\n",
    "string word3 = \"Bababadalgharaghtakamminarronnkonn\";\n",
    "\n",
    "string longestWord = \"\";\n",
    "\n",
    "if (word1.Length >= word2.Length && word1.Length >= word3.Length)\n",
    "{\n",
    "    longestWord = word1;\n",
    "}\n",
    "else if (word2.Length >= word1.Length && word2.Length >= word3.Length)\n",
    "{\n",
    "    longestWord = word2;\n",
    "}\n",
    "else\n",
    "{\n",
    "    longestWord = word3;\n",
    "}\n",
    "\n",
    "Console.WriteLine($\"The longest word is: {longestWord}\");"
   ]
  },
  {
   "cell_type": "markdown",
   "id": "43df7e1d",
   "metadata": {},
   "source": [
    "The longest word is: Supercalifragilisticexpialidocious"
   ]
  },
  {
   "cell_type": "markdown",
   "id": "396bacc7",
   "metadata": {},
   "source": [
    "d. Which composer comes first in the dictionary: 'Berlioz', 'Borodin', 'Brian', 'Bartok', 'Bellini', 'Buxtehude', 'Bernstein'. Which one comes last?"
   ]
  },
  {
   "cell_type": "code",
   "execution_count": null,
   "id": "13fc01a9",
   "metadata": {},
   "outputs": [],
   "source": [
    "using System.Linq;\n",
    "\n",
    "string[] composers = { \"Berlioz\", \"Borodin\", \"Brian\", \"Bartok\", \"Bellini\", \"Buxtehude\", \"Bernstein\" };\n",
    "\n",
    "string firstComposer = composers.Min();\n",
    "string lastComposer = composers.Max();\n",
    "\n",
    "Console.WriteLine($\"The composer that comes first in the dictionary is: {firstComposer}\");\n",
    "Console.WriteLine($\"The composer that comes last in the dictionary is: {lastComposer}\");"
   ]
  },
  {
   "cell_type": "markdown",
   "id": "5f0f9e65",
   "metadata": {},
   "source": [
    "The composer that comes first in the dictionary is: Bartok\n",
    "The composer that comes last in the dictionary is: Buxtehude"
   ]
  }
 ],
 "metadata": {
  "kernelspec": {
   "display_name": "Python 3 (ipykernel)",
   "language": "python",
   "name": "python3"
  },
  "language_info": {
   "codemirror_mode": {
    "name": "ipython",
    "version": 3
   },
   "file_extension": ".py",
   "mimetype": "text/x-python",
   "name": "python",
   "nbconvert_exporter": "python",
   "pygments_lexer": "ipython3",
   "version": "3.10.9"
  }
 },
 "nbformat": 4,
 "nbformat_minor": 5
}
