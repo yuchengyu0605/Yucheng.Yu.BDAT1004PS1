{
 "cells": [
  {
   "cell_type": "markdown",
   "id": "b4f81404",
   "metadata": {},
   "source": [
    "Question 1 C#: What data type is each of the following?"
   ]
  },
  {
   "cell_type": "code",
   "execution_count": null,
   "id": "69bf33c5",
   "metadata": {},
   "outputs": [],
   "source": [
    "class Program\n",
    "{\n",
    "    static void Main()\n",
    "    {\n",
    "        Console.WriteLine(\"Data types:\");\n",
    "        Console.WriteLine(\"5: \" + GetTypeString(5));\n",
    "        Console.WriteLine(\"5.0: \" + GetTypeString(5.0));\n",
    "        Console.WriteLine(\"5 > 1: \" + GetTypeString(5 > 1));\n",
    "        Console.WriteLine(\"'5': \" + GetTypeString('5'));\n",
    "        Console.WriteLine(\"5 * 2: \" + GetTypeString(5 * 2));\n",
    "        Console.WriteLine(\"'5' * 2: \" + GetTypeString('5' * 2));\n",
    "        Console.WriteLine(\"'5' + '2': \" + GetTypeString('5' + '2'));\n",
    "        Console.WriteLine(\"5 / 2: \" + GetTypeString(5 / 2));\n",
    "        Console.WriteLine(\"5 % 2: \" + GetTypeString(5 % 2));\n",
    "        Console.WriteLine(\"{5, 2, 1}: \" + GetTypeString(new[] { 5, 2, 1 }));\n",
    "        Console.WriteLine(\"5 == 3: \" + GetTypeString(5 == 3));\n",
    "        Console.WriteLine(\"Pi: \" + GetTypeString(Math.PI));\n",
    "    }\n",
    "\n",
    "    static string GetTypeString<T>(T value)\n",
    "    {\n",
    "        return value.GetType().ToString();\n",
    "    }\n",
    "}\n"
   ]
  },
  {
   "cell_type": "markdown",
   "id": "56c7081c",
   "metadata": {},
   "source": [
    "Data types:\n",
    "5: System.Int32\n",
    "5.0: System.Double\n",
    "5 > 1: System.Boolean\n",
    "'5': System.Char\n",
    "5 * 2: System.Int32\n",
    "'5' * 2: System.Int32\n",
    "'5' + '2': System.Int32\n",
    "5 / 2: System.Int32\n",
    "5 % 2: System.Int32\n",
    "{5, 2, 1}: System.Int32[]\n",
    "5 == 3: System.Boolean\n",
    "Pi: System.Double"
   ]
  },
  {
   "cell_type": "markdown",
   "id": "f2f5d334",
   "metadata": {},
   "source": [
    "Question 2 C#: Write (and evaluate) C# expressions that answer these questions:"
   ]
  },
  {
   "cell_type": "markdown",
   "id": "d490b12a",
   "metadata": {},
   "source": [
    "a. How many letters are there in 'Supercalifragilisticexpialidocious'?"
   ]
  },
  {
   "cell_type": "code",
   "execution_count": null,
   "id": "7b8a31b1",
   "metadata": {},
   "outputs": [],
   "source": [
    "string word = \"Supercalifragilisticexpialidocious\";\n",
    "int wordCount = word.Length;\n",
    "Console.WriteLine($\"The number of letters in the word is: {wordCount}\");"
   ]
  },
  {
   "cell_type": "markdown",
   "id": "0da726d2",
   "metadata": {},
   "source": [
    "The number of letters in the word is: 34"
   ]
  },
  {
   "cell_type": "markdown",
   "id": "ccbe0e53",
   "metadata": {},
   "source": [
    "b. Does 'Supercalifragilisticexpialidocious' contain 'ice' as a substring?"
   ]
  },
  {
   "cell_type": "code",
   "execution_count": null,
   "id": "06508c98",
   "metadata": {},
   "outputs": [],
   "source": [
    "string substring = \"ice\";\n",
    "if (word.Contains(substring))\n",
    "{\n",
    "    Console.WriteLine(\"True\");\n",
    "}\n",
    "else\n",
    "{\n",
    "    Console.WriteLine(\"False\");\n",
    "}"
   ]
  },
  {
   "cell_type": "markdown",
   "id": "f23957f8",
   "metadata": {},
   "source": [
    "The number of letters in the word is: 34\n",
    "True"
   ]
  },
  {
   "cell_type": "markdown",
   "id": "6ab9bd5f",
   "metadata": {},
   "source": [
    "c. Which of the following words is the longest: \n",
    "\n",
    "Supercalifragilisticexpialidocious, Honorificabilitudinitatibus, or Bababadalgharaghtakamminarronnkonn?"
   ]
  },
  {
   "cell_type": "code",
   "execution_count": null,
   "id": "d19c441d",
   "metadata": {},
   "outputs": [],
   "source": [
    "string word1 = \"Supercalifragilisticexpialidocious\";\n",
    "string word2 = \"Honorificabilitudinitatibus\";\n",
    "string word3 = \"Bababadalgharaghtakamminarronnkonn\";\n",
    "\n",
    "string longestWord = \"\";\n",
    "\n",
    "if (word1.Length >= word2.Length && word1.Length >= word3.Length)\n",
    "{\n",
    "    longestWord = word1;\n",
    "}\n",
    "else if (word2.Length >= word1.Length && word2.Length >= word3.Length)\n",
    "{\n",
    "    longestWord = word2;\n",
    "}\n",
    "else\n",
    "{\n",
    "    longestWord = word3;\n",
    "}\n",
    "\n",
    "Console.WriteLine($\"The longest word is: {longestWord}\");"
   ]
  },
  {
   "cell_type": "markdown",
   "id": "56eb870d",
   "metadata": {},
   "source": [
    "The longest word is: Supercalifragilisticexpialidocious"
   ]
  },
  {
   "cell_type": "markdown",
   "id": "6c4d51a3",
   "metadata": {},
   "source": [
    "d. Which composer comes first in the dictionary: 'Berlioz', 'Borodin', 'Brian', 'Bartok', 'Bellini', 'Buxtehude', 'Bernstein'. Which one comes last?"
   ]
  },
  {
   "cell_type": "code",
   "execution_count": null,
   "id": "6fc0458e",
   "metadata": {},
   "outputs": [],
   "source": [
    "using System.Linq;\n",
    "\n",
    "string[] composers = { \"Berlioz\", \"Borodin\", \"Brian\", \"Bartok\", \"Bellini\", \"Buxtehude\", \"Bernstein\" };\n",
    "\n",
    "string firstComposer = composers.Min();\n",
    "string lastComposer = composers.Max();\n",
    "\n",
    "Console.WriteLine($\"The composer that comes first in the dictionary is: {firstComposer}\");\n",
    "Console.WriteLine($\"The composer that comes last in the dictionary is: {lastComposer}\");"
   ]
  },
  {
   "cell_type": "markdown",
   "id": "676cf4fb",
   "metadata": {},
   "source": [
    "The composer that comes first in the dictionary is: Bartok\n",
    "The composer that comes last in the dictionary is: Buxtehude"
   ]
  },
  {
   "cell_type": "markdown",
   "id": "422d34e6",
   "metadata": {},
   "source": [
    "Question 3 C#:\n",
    "Implement function triangleArea(a,b,c) that takes as input the lengths of the 3 sides of a triangle and returns the area of the triangle. By Heron's formula, the area of a triangle with side lengths a, b, and c is s(s-a)(s-b)(s-c), where\n",
    "s=(a+b+c)/2."
   ]
  },
  {
   "cell_type": "code",
   "execution_count": null,
   "id": "9e70053c",
   "metadata": {},
   "outputs": [],
   "source": [
    "class Program\n",
    "{\n",
    "    static void Main()\n",
    "    {\n",
    "        Console.WriteLine(\"Enter the lengths of the sides of the triangle:\");\n",
    "\n",
    "        double sideA = ReadSideLength(\"Side A: \");\n",
    "        double sideB = ReadSideLength(\"Side B: \");\n",
    "        double sideC = ReadSideLength(\"Side C: \");\n",
    "\n",
    "        double area = TriangleArea(sideA, sideB, sideC);\n",
    "        Console.Write($\"triangleArea({sideA}, {sideB}, {sideC}): {area}\");\n",
    "    }\n",
    "\n",
    "    static double ReadSideLength(string sideName)\n",
    "    {\n",
    "        double sideLength;\n",
    "\n",
    "        while (true)\n",
    "        {\n",
    "            Console.Write(sideName);\n",
    "            if (double.TryParse(Console.ReadLine(), out sideLength) && sideLength > 0)\n",
    "            {\n",
    "                return sideLength;\n",
    "            }\n",
    "            \n",
    "        }\n",
    "    }\n",
    "\n",
    "    static double TriangleArea(double a, double b, double c)\n",
    "    {\n",
    "        double s = (a + b + c) / 2;\n",
    "        double area = Math.Sqrt(s * (s - a) * (s - b) * (s - c));\n",
    "        return area;\n",
    "    }"
   ]
  },
  {
   "cell_type": "markdown",
   "id": "7e724564",
   "metadata": {},
   "source": [
    "Enter the lengths of the sides of the triangle:\n",
    "Side A: 2\n",
    "Side B: 2\n",
    "Side C: 2\n",
    "triangleArea(2, 2, 2): 1.732050807568877"
   ]
  },
  {
   "cell_type": "markdown",
   "id": "2e60d2f5",
   "metadata": {},
   "source": [
    "Question 4 C#: Write a program in C# Sharp to separate odd and even integers in separate arrays."
   ]
  },
  {
   "cell_type": "code",
   "execution_count": null,
   "id": "b19bbfab",
   "metadata": {},
   "outputs": [],
   "source": [
    "class Program\n",
    "{\n",
    "    static void Main()\n",
    "    {\n",
    "        int[] numbers = new int[5];\n",
    "        int[] evenNumbers;\n",
    "        int[] oddNumbers;\n",
    "        int evenElements = 0;\n",
    "        int oddElements = 0;\n",
    "\n",
    "        Console.WriteLine(\"Enter 5 numbers:\");\n",
    "\n",
    "        for (int i = 0; i < 5; i++)\n",
    "        {\n",
    "            Console.Write($\"Elements - {i}: \");\n",
    "            if (int.TryParse(Console.ReadLine(), out int number))\n",
    "            {\n",
    "                numbers[i] = number;\n",
    "                if (number % 2 == 0)\n",
    "                    evenElements++;\n",
    "                else\n",
    "                    oddElements++;\n",
    "            }\n",
    "          \n",
    "        }\n",
    "\n",
    "        evenNumbers = new int[evenElements];\n",
    "        oddNumbers = new int[oddElements];\n",
    "        evenElements = 0;\n",
    "        oddElements = 0;\n",
    "\n",
    "        for (int i = 0; i < 5; i++)\n",
    "        {\n",
    "            if (numbers[i] % 2 == 0)\n",
    "                evenNumbers[evenElements++] = numbers[i];\n",
    "            else\n",
    "                oddNumbers[oddElements++] = numbers[i];\n",
    "        }\n",
    "\n",
    "        Console.WriteLine(\"The even elements are:\");\n",
    "        PrintArray(evenNumbers);\n",
    "        Console.WriteLine(\"The odd elements are:\");\n",
    "        PrintArray(oddNumbers);\n",
    "    }\n",
    "\n",
    "    static void PrintArray(int[] array)\n",
    "    {\n",
    "        foreach (int number in array)\n",
    "        {\n",
    "            Console.Write(number + \" \");\n",
    "        }\n",
    "        Console.WriteLine();\n",
    "    }\n",
    "}\n"
   ]
  },
  {
   "cell_type": "markdown",
   "id": "a90308af",
   "metadata": {},
   "source": [
    "Elements - 0: 25\n",
    "Elements - 1: 47\n",
    "Elements - 2: 42\n",
    "Elements - 3: 56\n",
    "Elements - 4: 32\n",
    "The even elements are:\n",
    "42 56 32\n",
    "The odd elements are:\n",
    "25 47"
   ]
  },
  {
   "cell_type": "markdown",
   "id": "81bf4fc2",
   "metadata": {},
   "source": [
    "Question 5 C#:\n",
    "a. Write a function inside(x,y,x1,y1,x2,y2) that returns True or False depending on whether the point (x,y) lies in the rectangle with lower left corner (x1,y1) and upper right corner (x2,y2)."
   ]
  },
  {
   "cell_type": "code",
   "execution_count": null,
   "id": "47880139",
   "metadata": {},
   "outputs": [],
   "source": [
    "class Program\n",
    "{\n",
    "    static void Main()\n",
    "    {\n",
    "        Console.WriteLine(\"Enter the lower left conrner the rectangle:\");\n",
    "        double x1 = ReadCoordinate(\"x1: \");\n",
    "        double y1 = ReadCoordinate(\"y1: \");\n",
    "\n",
    "        Console.WriteLine(\"Enter the upper right conrner the rectangle:\");\n",
    "        double x2 = ReadCoordinate(\"x2: \");\n",
    "        double y2 = ReadCoordinate(\"y2: \");\n",
    "        \n",
    "        Console.WriteLine(\"Enter the point:\");\n",
    "        double x = ReadCoordinate(\"x: \");\n",
    "        double y = ReadCoordinate(\"y: \");\n",
    "        \n",
    "        bool Inside = inside(x, y, x1, y1, x2, y2);\n",
    "        \n",
    "        Console.WriteLine($\"The point ({x}, {y}) is inside the rectangle: {Inside}\");\n",
    "    }\n",
    "    \n",
    "    static double ReadCoordinate(string coordinateName)\n",
    "    {\n",
    "        double coordinate;\n",
    "        \n",
    "        while (true)\n",
    "        {\n",
    "            Console.Write(coordinateName);\n",
    "            if (double.TryParse(Console.ReadLine(), out coordinate))\n",
    "            {\n",
    "                return coordinate;\n",
    "            }\n",
    "            \n",
    "        }\n",
    "    }\n",
    "\n",
    "    static bool inside(double x, double y, double x1, double y1, double x2, double y2)\n",
    "    {\n",
    "        return x >= x1 && x <= x2 && y >= y1 && y <= y2;\n",
    "    }\n",
    "}"
   ]
  },
  {
   "cell_type": "markdown",
   "id": "8adf8d9e",
   "metadata": {},
   "source": [
    "Enter the lower left conrner the rectangle:\n",
    "x1: 0\n",
    "y1: 0\n",
    "Enter the upper right conrner the rectangle:\n",
    "x2: 2\n",
    "y2: 3\n",
    "Enter the point:\n",
    "x: 1\n",
    "y: 1\n",
    "The point (1, 1) is inside the rectangle: True"
   ]
  },
  {
   "cell_type": "markdown",
   "id": "76a51e7a",
   "metadata": {},
   "source": [
    "Enter the lower left conrner the rectangle:\n",
    "x1: 0\n",
    "y1: 0\n",
    "Enter the upper right conrner the rectangle:\n",
    "x2: 2\n",
    "y2: 3\n",
    "Enter the point:\n",
    "x: -1\n",
    "y: -1\n",
    "The point (-1, -1) is inside the rectangle: False"
   ]
  },
  {
   "cell_type": "markdown",
   "id": "2c1d5774",
   "metadata": {},
   "source": [
    "b. Use function inside() from part a. to write an expression that tests whether the point (1,1) lies in both of the following rectangles: one with lower left corner (0.3, 0.5) and upper right corner (1.1, 0.7) and the other with lower left corner (0.5, 0.2) and upper right corner (1.1, 2)."
   ]
  },
  {
   "cell_type": "code",
   "execution_count": null,
   "id": "1bc5f8f9",
   "metadata": {},
   "outputs": [],
   "source": [
    "bool isPointInRectangle1 = inside(1, 1, 0.3, 0.5, 1.1, 0.7);\n",
    "        bool isPointInRectangle2 = inside(1, 1, 0.5, 0.2, 1.1, 2);\n",
    "        bool isPointInBothRectangles = false;\n",
    "\n",
    "        if (isPointInRectangle1 && isPointInRectangle2)\n",
    "        {\n",
    "            isPointInBothRectangles = true;\n",
    "        }\n",
    "\n",
    "        if (isPointInBothRectangles)\n",
    "        {\n",
    "            Console.WriteLine(\"The point (1, 1) lies in both rectangles.\");\n",
    "        }\n",
    "        else\n",
    "        {\n",
    "            Console.WriteLine(\"The point (1, 1) does not lie in both rectangles.\");\n",
    "        }"
   ]
  },
  {
   "cell_type": "markdown",
   "id": "394f169a",
   "metadata": {},
   "source": [
    "The point (1, 1) does not lie in both rectangles."
   ]
  },
  {
   "cell_type": "markdown",
   "id": "8b40914f",
   "metadata": {},
   "source": [
    "Question 6 Python:\n",
    "16. You can turn a word into pig-Latin using the following two rules (simplified):\n",
    "• If the word starts with a consonant, move that letter to the end and append\n",
    "'ay'. For example, 'happy' becomes 'appyhay' and 'pencil' becomes 'encilpay'.\n",
    "• If the word starts with a vowel, simply append 'way' to the end of the word.\n",
    "For example, 'enter' becomes 'enterway' and 'other' becomes 'otherway' . For\n",
    "our purposes, there are 5 vowels: a, e, i, o, u (so we count y as a consonant). Write a function pig() that takes a word (i.e., a string) as input and returns its pig- Latin form. Your function should still work if the input word contains upper case characters. Your output should always be lower case however."
   ]
  },
  {
   "cell_type": "code",
   "execution_count": 2,
   "id": "67704f3d",
   "metadata": {},
   "outputs": [
    {
     "name": "stdout",
     "output_type": "stream",
     "text": [
      "Enter a word: our\n",
      "Pig-Latin form: ourway\n"
     ]
    }
   ],
   "source": [
    "def pig(word):\n",
    "    vowels = ['a', 'e', 'i', 'o', 'u']\n",
    "    word = word.lower()  # Convert the word to lowercase\n",
    "    \n",
    "    if word[0] in vowels:\n",
    "        pig_word = word + 'way'\n",
    "    else:\n",
    "        pig_word = word[1:] + word[0] + 'ay'\n",
    "    \n",
    "    return pig_word\n",
    "\n",
    "# Test the pig function\n",
    "word = input(\"Enter a word: \")\n",
    "pig_word = pig(word)\n",
    "print(\"Pig-Latin form:\", pig_word)\n"
   ]
  },
  {
   "cell_type": "code",
   "execution_count": null,
   "id": "7da67d77",
   "metadata": {},
   "outputs": [],
   "source": []
  }
 ],
 "metadata": {
  "kernelspec": {
   "display_name": "Python 3 (ipykernel)",
   "language": "python",
   "name": "python3"
  },
  "language_info": {
   "codemirror_mode": {
    "name": "ipython",
    "version": 3
   },
   "file_extension": ".py",
   "mimetype": "text/x-python",
   "name": "python",
   "nbconvert_exporter": "python",
   "pygments_lexer": "ipython3",
   "version": "3.10.9"
  }
 },
 "nbformat": 4,
 "nbformat_minor": 5
}
